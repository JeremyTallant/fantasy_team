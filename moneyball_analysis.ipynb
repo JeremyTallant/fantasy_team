{
 "cells": [
  {
   "cell_type": "markdown",
   "metadata": {
    "dc": {
     "key": "4"
    },
    "deletable": false,
    "editable": false,
    "run_control": {
     "frozen": true
    },
    "tags": [
     "context"
    ]
   },
   "source": [
    "## 1. Athletics needs a new breed of scouts and managers\n",
    "<p>Athletics goes back to the original Olympics. Since then, little has changed. Athletes compete as individuals, seeking to throw the farthest, jump the farthest (or highest) and run the fastest. But people like cheering for teams, waving banners and yelling like mad during matches, wearing their favorite player's jerseys and staying loyal to their side through thick and thin.  </p>\n",
    "<p><img src=\"https://assets.datacamp.com/production/project_177/img/NAL_Shield_Blue.png\" alt></p>\n",
    "<p>What if athletics was a team sport? It could potentially be more interesting and would give us a new set of sports analytics to discuss. We might even reduce the incentives to do unsavory things in the pursuit of <em>altius</em>, <em>fortius</em> and <em>citius</em>.</p>\n",
    "<p>This dataset contains results from American athletes in the horizontal jumps (triple jump and long jump) and throws (shot put, discus, javelin, hammer and weight). Let's read that in and examine women's javelin.</p>"
   ]
  },
  {
   "cell_type": "code",
   "execution_count": 11,
   "metadata": {
    "dc": {
     "key": "4"
    },
    "tags": [
     "sample_code"
    ]
   },
   "outputs": [
    {
     "name": "stderr",
     "output_type": "stream",
     "text": [
      "\u001b[1mRows: \u001b[22m\u001b[34m2098\u001b[39m \u001b[1mColumns: \u001b[22m\u001b[34m10\u001b[39m\n",
      "\u001b[36m──\u001b[39m \u001b[1mColumn specification\u001b[22m \u001b[36m────────────────────────────────────────────────────────\u001b[39m\n",
      "\u001b[1mDelimiter:\u001b[22m \",\"\n",
      "\u001b[31mchr\u001b[39m (3): Event, Male_Female, Athlete\n",
      "\u001b[32mdbl\u001b[39m (7): EventID, Flight1, Flight2, Flight3, Flight4, Flight5, Flight6\n",
      "\n",
      "\u001b[36mℹ\u001b[39m Use `spec()` to retrieve the full column specification for this data.\n",
      "\u001b[36mℹ\u001b[39m Specify the column types or set `show_col_types = FALSE` to quiet this message.\n"
     ]
    },
    {
     "data": {
      "text/html": [
       "<table class=\"dataframe\">\n",
       "<caption>A tibble: 6 × 8</caption>\n",
       "<thead>\n",
       "\t<tr><th scope=col>EventID</th><th scope=col>Athlete</th><th scope=col>Flight1</th><th scope=col>Flight2</th><th scope=col>Flight3</th><th scope=col>Flight4</th><th scope=col>Flight5</th><th scope=col>Flight6</th></tr>\n",
       "\t<tr><th scope=col>&lt;dbl&gt;</th><th scope=col>&lt;chr&gt;</th><th scope=col>&lt;dbl&gt;</th><th scope=col>&lt;dbl&gt;</th><th scope=col>&lt;dbl&gt;</th><th scope=col>&lt;dbl&gt;</th><th scope=col>&lt;dbl&gt;</th><th scope=col>&lt;dbl&gt;</th></tr>\n",
       "</thead>\n",
       "<tbody>\n",
       "\t<tr><td>8</td><td>Brittany Borman   </td><td>54.02</td><td>51.21</td><td>57.31</td><td>52.57</td><td>56.97</td><td>60.91</td></tr>\n",
       "\t<tr><td>8</td><td>Ariana Ince       </td><td>48.97</td><td>54.85</td><td>53.58</td><td>55.13</td><td>55.27</td><td>56.66</td></tr>\n",
       "\t<tr><td>8</td><td>Kara Patterson    </td><td>50.14</td><td>52.10</td><td> 0.00</td><td>50.82</td><td>55.88</td><td>54.62</td></tr>\n",
       "\t<tr><td>8</td><td>Kimberley Hamilton</td><td>47.96</td><td> 0.00</td><td>50.93</td><td>54.13</td><td>55.15</td><td>53.34</td></tr>\n",
       "\t<tr><td>8</td><td>Laura Loht        </td><td>44.40</td><td>53.78</td><td>50.56</td><td>54.15</td><td> 0.00</td><td>49.02</td></tr>\n",
       "\t<tr><td>8</td><td>Brianna Bain      </td><td>49.31</td><td> 0.00</td><td>51.32</td><td> 0.00</td><td>48.64</td><td>53.05</td></tr>\n",
       "</tbody>\n",
       "</table>\n"
      ],
      "text/latex": [
       "A tibble: 6 × 8\n",
       "\\begin{tabular}{llllllll}\n",
       " EventID & Athlete & Flight1 & Flight2 & Flight3 & Flight4 & Flight5 & Flight6\\\\\n",
       " <dbl> & <chr> & <dbl> & <dbl> & <dbl> & <dbl> & <dbl> & <dbl>\\\\\n",
       "\\hline\n",
       "\t 8 & Brittany Borman    & 54.02 & 51.21 & 57.31 & 52.57 & 56.97 & 60.91\\\\\n",
       "\t 8 & Ariana Ince        & 48.97 & 54.85 & 53.58 & 55.13 & 55.27 & 56.66\\\\\n",
       "\t 8 & Kara Patterson     & 50.14 & 52.10 &  0.00 & 50.82 & 55.88 & 54.62\\\\\n",
       "\t 8 & Kimberley Hamilton & 47.96 &  0.00 & 50.93 & 54.13 & 55.15 & 53.34\\\\\n",
       "\t 8 & Laura Loht         & 44.40 & 53.78 & 50.56 & 54.15 &  0.00 & 49.02\\\\\n",
       "\t 8 & Brianna Bain       & 49.31 &  0.00 & 51.32 &  0.00 & 48.64 & 53.05\\\\\n",
       "\\end{tabular}\n"
      ],
      "text/markdown": [
       "\n",
       "A tibble: 6 × 8\n",
       "\n",
       "| EventID &lt;dbl&gt; | Athlete &lt;chr&gt; | Flight1 &lt;dbl&gt; | Flight2 &lt;dbl&gt; | Flight3 &lt;dbl&gt; | Flight4 &lt;dbl&gt; | Flight5 &lt;dbl&gt; | Flight6 &lt;dbl&gt; |\n",
       "|---|---|---|---|---|---|---|---|\n",
       "| 8 | Brittany Borman    | 54.02 | 51.21 | 57.31 | 52.57 | 56.97 | 60.91 |\n",
       "| 8 | Ariana Ince        | 48.97 | 54.85 | 53.58 | 55.13 | 55.27 | 56.66 |\n",
       "| 8 | Kara Patterson     | 50.14 | 52.10 |  0.00 | 50.82 | 55.88 | 54.62 |\n",
       "| 8 | Kimberley Hamilton | 47.96 |  0.00 | 50.93 | 54.13 | 55.15 | 53.34 |\n",
       "| 8 | Laura Loht         | 44.40 | 53.78 | 50.56 | 54.15 |  0.00 | 49.02 |\n",
       "| 8 | Brianna Bain       | 49.31 |  0.00 | 51.32 |  0.00 | 48.64 | 53.05 |\n",
       "\n"
      ],
      "text/plain": [
       "  EventID Athlete            Flight1 Flight2 Flight3 Flight4 Flight5 Flight6\n",
       "1 8       Brittany Borman    54.02   51.21   57.31   52.57   56.97   60.91  \n",
       "2 8       Ariana Ince        48.97   54.85   53.58   55.13   55.27   56.66  \n",
       "3 8       Kara Patterson     50.14   52.10    0.00   50.82   55.88   54.62  \n",
       "4 8       Kimberley Hamilton 47.96    0.00   50.93   54.13   55.15   53.34  \n",
       "5 8       Laura Loht         44.40   53.78   50.56   54.15    0.00   49.02  \n",
       "6 8       Brianna Bain       49.31    0.00   51.32    0.00   48.64   53.05  "
      ]
     },
     "metadata": {},
     "output_type": "display_data"
    },
    {
     "data": {
      "text/plain": [
       "    EventID         Athlete             Flight1         Flight2     \n",
       " Min.   :   8.0   Length:178         Min.   : 0.00   Min.   : 0.00  \n",
       " 1st Qu.: 178.0   Class :character   1st Qu.:41.53   1st Qu.:40.23  \n",
       " Median : 511.0   Mode  :character   Median :48.85   Median :48.85  \n",
       " Mean   : 796.8                      Mean   :40.80   Mean   :39.87  \n",
       " 3rd Qu.:1703.0                      3rd Qu.:53.20   3rd Qu.:53.07  \n",
       " Max.   :1859.0                      Max.   :64.94   Max.   :61.38  \n",
       "    Flight3         Flight4         Flight5         Flight6     \n",
       " Min.   : 0.00   Min.   : 0.00   Min.   : 0.00   Min.   : 0.00  \n",
       " 1st Qu.: 0.00   1st Qu.:40.57   1st Qu.: 0.00   1st Qu.: 0.00  \n",
       " Median :47.34   Median :49.30   Median :48.01   Median :46.80  \n",
       " Mean   :34.22   Mean   :39.37   Mean   :32.97   Mean   :34.82  \n",
       " 3rd Qu.:52.08   3rd Qu.:52.10   3rd Qu.:51.44   3rd Qu.:52.44  \n",
       " Max.   :62.42   Max.   :61.56   Max.   :60.84   Max.   :64.45  "
      ]
     },
     "metadata": {},
     "output_type": "display_data"
    }
   ],
   "source": [
    "# Load the tidyverse package\n",
    "library(tidyverse)\n",
    "\n",
    "# Import the full dataset\n",
    "data <- read_csv('datasets/athletics.csv')\n",
    "\n",
    "# Select the results of interest: women's javelin\n",
    "javelin <- data %>%\n",
    "  filter(Male_Female == \"Female\" & Event == \"Javelin\") %>%\n",
    "  select(-Male_Female, -Event)\n",
    " \n",
    "# Give yourself a snapshot of your data \n",
    "head(javelin)\n",
    "summary(javelin)"
   ]
  },
  {
   "cell_type": "markdown",
   "metadata": {
    "dc": {
     "key": "11"
    },
    "deletable": false,
    "editable": false,
    "run_control": {
     "frozen": true
    },
    "tags": [
     "context"
    ]
   },
   "source": [
    "## 2. Managers love tidy data\n",
    "<p>This view shows each athlete’s results at individual track meets. Athletes have six throws, but in these meets only one – their longest – actually matters. If all we wanted to do was talk regular track and field, we would have a very easy task: create a new column taking the max of each row, arrange the data frame by that column in descending order and we’d be done.</p>\n",
    "<p>But our managers need to do and know much more than that! This is a sport of strategy, where every throw matters. Managers need a deeper analysis to choose their teams, craft their plan and make decisions on match-day.</p>\n",
    "<p>We first need to make this standard “wide” view tidy data. We’re not completely done with the wide view, but the tidy data will allow us to compute our summary statistics. </p>"
   ]
  },
  {
   "cell_type": "code",
   "execution_count": 12,
   "metadata": {
    "dc": {
     "key": "11"
    },
    "tags": [
     "sample_code"
    ]
   },
   "outputs": [
    {
     "data": {
      "text/html": [
       "<table class=\"dataframe\">\n",
       "<caption>A tibble: 6 × 4</caption>\n",
       "<thead>\n",
       "\t<tr><th scope=col>EventID</th><th scope=col>Athlete</th><th scope=col>Flight</th><th scope=col>Distance</th></tr>\n",
       "\t<tr><th scope=col>&lt;dbl&gt;</th><th scope=col>&lt;chr&gt;</th><th scope=col>&lt;dbl&gt;</th><th scope=col>&lt;dbl&gt;</th></tr>\n",
       "</thead>\n",
       "<tbody>\n",
       "\t<tr><td>8</td><td>Brittany Borman   </td><td>1</td><td>54.02</td></tr>\n",
       "\t<tr><td>8</td><td>Ariana Ince       </td><td>1</td><td>48.97</td></tr>\n",
       "\t<tr><td>8</td><td>Kara Patterson    </td><td>1</td><td>50.14</td></tr>\n",
       "\t<tr><td>8</td><td>Kimberley Hamilton</td><td>1</td><td>47.96</td></tr>\n",
       "\t<tr><td>8</td><td>Laura Loht        </td><td>1</td><td>44.40</td></tr>\n",
       "\t<tr><td>8</td><td>Brianna Bain      </td><td>1</td><td>49.31</td></tr>\n",
       "</tbody>\n",
       "</table>\n"
      ],
      "text/latex": [
       "A tibble: 6 × 4\n",
       "\\begin{tabular}{llll}\n",
       " EventID & Athlete & Flight & Distance\\\\\n",
       " <dbl> & <chr> & <dbl> & <dbl>\\\\\n",
       "\\hline\n",
       "\t 8 & Brittany Borman    & 1 & 54.02\\\\\n",
       "\t 8 & Ariana Ince        & 1 & 48.97\\\\\n",
       "\t 8 & Kara Patterson     & 1 & 50.14\\\\\n",
       "\t 8 & Kimberley Hamilton & 1 & 47.96\\\\\n",
       "\t 8 & Laura Loht         & 1 & 44.40\\\\\n",
       "\t 8 & Brianna Bain       & 1 & 49.31\\\\\n",
       "\\end{tabular}\n"
      ],
      "text/markdown": [
       "\n",
       "A tibble: 6 × 4\n",
       "\n",
       "| EventID &lt;dbl&gt; | Athlete &lt;chr&gt; | Flight &lt;dbl&gt; | Distance &lt;dbl&gt; |\n",
       "|---|---|---|---|\n",
       "| 8 | Brittany Borman    | 1 | 54.02 |\n",
       "| 8 | Ariana Ince        | 1 | 48.97 |\n",
       "| 8 | Kara Patterson     | 1 | 50.14 |\n",
       "| 8 | Kimberley Hamilton | 1 | 47.96 |\n",
       "| 8 | Laura Loht         | 1 | 44.40 |\n",
       "| 8 | Brianna Bain       | 1 | 49.31 |\n",
       "\n"
      ],
      "text/plain": [
       "  EventID Athlete            Flight Distance\n",
       "1 8       Brittany Borman    1      54.02   \n",
       "2 8       Ariana Ince        1      48.97   \n",
       "3 8       Kara Patterson     1      50.14   \n",
       "4 8       Kimberley Hamilton 1      47.96   \n",
       "5 8       Laura Loht         1      44.40   \n",
       "6 8       Brianna Bain       1      49.31   "
      ]
     },
     "metadata": {},
     "output_type": "display_data"
    }
   ],
   "source": [
    "# Assign the tidy data to javelin_long\n",
    "javelin_long <- javelin %>% gather(key = \"Flight\", value = \"Distance\", Flight1:Flight6)\n",
    "\n",
    "# Make Flight a numeric\n",
    "javelin_long$Flight <- as.numeric(sub(\"Flight\", \"\", javelin_long$Flight))\n",
    "\n",
    "# Examine the first 6 rows\n",
    "head(javelin_long)"
   ]
  },
  {
   "cell_type": "markdown",
   "metadata": {
    "dc": {
     "key": "18"
    },
    "deletable": false,
    "editable": false,
    "run_control": {
     "frozen": true
    },
    "tags": [
     "context"
    ]
   },
   "source": [
    "## 3. Every throw matters\n",
    "<p>A throw is a foul if the athlete commits a technical violation during the throw. In javelin, the most common foul is stepping over the release line. Traditionally, the throw is scored as an “F” and it has no further significance. Athletes can also choose to pass on a throw – scored as a “P” – if they are content with their earlier throws and want to “save themselves” for later.</p>\n",
    "<p>Remember when we said every throw matters? Here, the goal is not for each player to have one great throw. All their throws in each event are summed together, and the team with the highest total distance wins the point. Fouls are scored as 0 and passing, well, your manager and teammates would not be pleased.</p>\n",
    "<p>Here, we examine which athletes cover the most distance in each of their meets, along with two ways to talk about their consistency.</p>"
   ]
  },
  {
   "cell_type": "code",
   "execution_count": 14,
   "metadata": {
    "dc": {
     "key": "18"
    },
    "tags": [
     "sample_code"
    ]
   },
   "outputs": [
    {
     "name": "stderr",
     "output_type": "stream",
     "text": [
      "\u001b[1m\u001b[22m`summarise()` has grouped output by 'Athlete'. You can override using the\n",
      "`.groups` argument.\n"
     ]
    },
    {
     "data": {
      "text/html": [
       "<table class=\"dataframe\">\n",
       "<caption>A grouped_df: 11 × 5</caption>\n",
       "<thead>\n",
       "\t<tr><th scope=col>Athlete</th><th scope=col>EventID</th><th scope=col>TotalDistance</th><th scope=col>StandardDev</th><th scope=col>Success</th></tr>\n",
       "\t<tr><th scope=col>&lt;chr&gt;</th><th scope=col>&lt;dbl&gt;</th><th scope=col>&lt;dbl&gt;</th><th scope=col>&lt;dbl&gt;</th><th scope=col>&lt;int&gt;</th></tr>\n",
       "</thead>\n",
       "<tbody>\n",
       "\t<tr><td>Emma Fitzgerald</td><td> 176</td><td> 89.40</td><td>1.966</td><td>2</td></tr>\n",
       "\t<tr><td>Emma Fitzgerald</td><td> 815</td><td>217.08</td><td>1.262</td><td>5</td></tr>\n",
       "\t<tr><td>Erma Gene Evans</td><td> 247</td><td>196.99</td><td>1.806</td><td>4</td></tr>\n",
       "\t<tr><td>Fawn Miller    </td><td>  20</td><td>227.19</td><td>0.317</td><td>4</td></tr>\n",
       "\t<tr><td>Fawn Miller    </td><td>1575</td><td>149.15</td><td>1.271</td><td>3</td></tr>\n",
       "\t<tr><td>Gabby Kearney  </td><td> 176</td><td>134.69</td><td>2.748</td><td>3</td></tr>\n",
       "\t<tr><td>Gabby Kearney  </td><td> 815</td><td>240.72</td><td>1.479</td><td>5</td></tr>\n",
       "\t<tr><td>Grace Zollman  </td><td> 178</td><td>180.26</td><td>0.731</td><td>4</td></tr>\n",
       "\t<tr><td>Grace Zollman  </td><td> 180</td><td>236.12</td><td>3.201</td><td>5</td></tr>\n",
       "\t<tr><td>Grace Zollman  </td><td> 247</td><td>196.23</td><td>3.037</td><td>4</td></tr>\n",
       "\t<tr><td>Haley Crouser  </td><td> 938</td><td>312.02</td><td>2.295</td><td>6</td></tr>\n",
       "</tbody>\n",
       "</table>\n"
      ],
      "text/latex": [
       "A grouped\\_df: 11 × 5\n",
       "\\begin{tabular}{lllll}\n",
       " Athlete & EventID & TotalDistance & StandardDev & Success\\\\\n",
       " <chr> & <dbl> & <dbl> & <dbl> & <int>\\\\\n",
       "\\hline\n",
       "\t Emma Fitzgerald &  176 &  89.40 & 1.966 & 2\\\\\n",
       "\t Emma Fitzgerald &  815 & 217.08 & 1.262 & 5\\\\\n",
       "\t Erma Gene Evans &  247 & 196.99 & 1.806 & 4\\\\\n",
       "\t Fawn Miller     &   20 & 227.19 & 0.317 & 4\\\\\n",
       "\t Fawn Miller     & 1575 & 149.15 & 1.271 & 3\\\\\n",
       "\t Gabby Kearney   &  176 & 134.69 & 2.748 & 3\\\\\n",
       "\t Gabby Kearney   &  815 & 240.72 & 1.479 & 5\\\\\n",
       "\t Grace Zollman   &  178 & 180.26 & 0.731 & 4\\\\\n",
       "\t Grace Zollman   &  180 & 236.12 & 3.201 & 5\\\\\n",
       "\t Grace Zollman   &  247 & 196.23 & 3.037 & 4\\\\\n",
       "\t Haley Crouser   &  938 & 312.02 & 2.295 & 6\\\\\n",
       "\\end{tabular}\n"
      ],
      "text/markdown": [
       "\n",
       "A grouped_df: 11 × 5\n",
       "\n",
       "| Athlete &lt;chr&gt; | EventID &lt;dbl&gt; | TotalDistance &lt;dbl&gt; | StandardDev &lt;dbl&gt; | Success &lt;int&gt; |\n",
       "|---|---|---|---|---|\n",
       "| Emma Fitzgerald |  176 |  89.40 | 1.966 | 2 |\n",
       "| Emma Fitzgerald |  815 | 217.08 | 1.262 | 5 |\n",
       "| Erma Gene Evans |  247 | 196.99 | 1.806 | 4 |\n",
       "| Fawn Miller     |   20 | 227.19 | 0.317 | 4 |\n",
       "| Fawn Miller     | 1575 | 149.15 | 1.271 | 3 |\n",
       "| Gabby Kearney   |  176 | 134.69 | 2.748 | 3 |\n",
       "| Gabby Kearney   |  815 | 240.72 | 1.479 | 5 |\n",
       "| Grace Zollman   |  178 | 180.26 | 0.731 | 4 |\n",
       "| Grace Zollman   |  180 | 236.12 | 3.201 | 5 |\n",
       "| Grace Zollman   |  247 | 196.23 | 3.037 | 4 |\n",
       "| Haley Crouser   |  938 | 312.02 | 2.295 | 6 |\n",
       "\n"
      ],
      "text/plain": [
       "   Athlete         EventID TotalDistance StandardDev Success\n",
       "1  Emma Fitzgerald  176     89.40        1.966       2      \n",
       "2  Emma Fitzgerald  815    217.08        1.262       5      \n",
       "3  Erma Gene Evans  247    196.99        1.806       4      \n",
       "4  Fawn Miller       20    227.19        0.317       4      \n",
       "5  Fawn Miller     1575    149.15        1.271       3      \n",
       "6  Gabby Kearney    176    134.69        2.748       3      \n",
       "7  Gabby Kearney    815    240.72        1.479       5      \n",
       "8  Grace Zollman    178    180.26        0.731       4      \n",
       "9  Grace Zollman    180    236.12        3.201       5      \n",
       "10 Grace Zollman    247    196.23        3.037       4      \n",
       "11 Haley Crouser    938    312.02        2.295       6      "
      ]
     },
     "metadata": {},
     "output_type": "display_data"
    }
   ],
   "source": [
    "javelin_totals <- javelin_long %>%\n",
    "  filter(Distance > 0) %>%\n",
    "  group_by(Athlete, EventID) %>%\n",
    "  summarize(TotalDistance = sum(Distance), StandardDev = round(sd(Distance),3), Success = n())\n",
    "\n",
    "# View 10 rows of javelin_totals\n",
    "javelin_totals[60:70,]"
   ]
  },
  {
   "cell_type": "markdown",
   "metadata": {
    "dc": {
     "key": "25"
    },
    "deletable": false,
    "editable": false,
    "run_control": {
     "frozen": true
    },
    "tags": [
     "context"
    ]
   },
   "source": [
    "## 4. Find the clutch performers\n",
    "<p>In many traditional track meets, after the first three throws the leaders in the field are whittled down to the top eight (sometimes more, sometimes less) athletes. Like the meet overall, this is solely based on their best throw of those first three.&nbsp;</p>\n",
    "<p>We give the choice to the managers. Of the three athletes who start each event, the manager chooses the two who will continue on for the last three throws. The manager will need to know which players tend to come alive – or at least maintain their form – in the late stages of a match. They also need to know if a player’s first three throws are consistent with their playing history. Otherwise, they could make a poor decision about who stays in based only on the sample unfolding in front of them.</p>\n",
    "<p>For now, let’s examine just our top-line stat – total distance covered – for differences between early and late stages of the match.</p>"
   ]
  },
  {
   "cell_type": "code",
   "execution_count": 0,
   "metadata": {
    "dc": {
     "key": "25"
    },
    "tags": [
     "sample_code"
    ]
   },
   "outputs": [],
   "source": [
    "javelin <- ....\n",
    "# .... YOUR CODE FOR TASK 4 ....\n",
    "\n",
    "# Examine the last ten rows\n",
    "# .... YOUR CODE FOR TASK 4 ...."
   ]
  },
  {
   "cell_type": "markdown",
   "metadata": {
    "dc": {
     "key": "32"
    },
    "deletable": false,
    "editable": false,
    "run_control": {
     "frozen": true
    },
    "tags": [
     "context"
    ]
   },
   "source": [
    "## 5. Pull the pieces together for a new look at the athletes\n",
    "<p>The aggregate stats are in two data frame. By joining the two together, we can take our first rough look at how the athletes compare.</p>"
   ]
  },
  {
   "cell_type": "code",
   "execution_count": 0,
   "metadata": {
    "dc": {
     "key": "32"
    },
    "tags": [
     "sample_code"
    ]
   },
   "outputs": [],
   "source": [
    "javelin_totals <- ....\n",
    "# .... YOUR CODE FOR TASK 5 ....\n",
    "# .... YOUR CODE FOR TASK 5 ....\n",
    "\n",
    "# Examine the first ten rows\n",
    "# .... YOUR CODE FOR TASK 5 ...."
   ]
  },
  {
   "cell_type": "markdown",
   "metadata": {
    "dc": {
     "key": "39"
    },
    "deletable": false,
    "editable": false,
    "run_control": {
     "frozen": true
    },
    "tags": [
     "context"
    ]
   },
   "source": [
    "## 6. Normalize the data to compare across stats\n",
    "<p>The four summary statistics - total distance, standard deviation, number of successful throws and our measure of early vs. late - are on different scales and measure very different things. Managers need to be able to compare these to each other and then weigh them based on what is most important to their vision and strategy for the team. A simple normalization will allow for these comparisons.</p>"
   ]
  },
  {
   "cell_type": "code",
   "execution_count": 0,
   "metadata": {
    "dc": {
     "key": "39"
    },
    "tags": [
     "sample_code"
    ]
   },
   "outputs": [],
   "source": [
    ".... <- .... {\n",
    "    (result - min(result)) / (max(result) - min(result))\n",
    "}\n",
    "aggstats <- c(\"TotalDistance\", \"StandardDev\", \"Success\", \"diff\")\n",
    ".... <- javelin_totals %>%\n",
    " ungroup() %>%\n",
    "# .... YOUR CODE FOR TASK 6 ....\n",
    "# .... YOUR CODE FOR TASK 6 ....\n",
    "# .... YOUR CODE FOR TASK 6 ....\n",
    "\n",
    "head(javelin_norm)"
   ]
  },
  {
   "cell_type": "markdown",
   "metadata": {
    "dc": {
     "key": "46"
    },
    "deletable": false,
    "editable": false,
    "run_control": {
     "frozen": true
    },
    "tags": [
     "context"
    ]
   },
   "source": [
    "## 7. What matters most when building your squad?\n",
    "<p>Managers have to decide what kind of players they want on their team - who matches their vision, who has the skills they need to play their style of athletics and - ultimately - who will deliver the wins. A risk-averse manager will want players who rarely foul. The steely-eyed manager will want the players who can deliver the win with their final throws. </p>\n",
    "<p>Like any other sport (or profession), rarely will any one player be equally strong in all areas. Managers have to make trade-offs in selecting their teams. Our first batch of managers have the added disadvantage of selecting players based on data from a related but distinct sport. Our data comes from traditional track and field meets, where the motivations and goals are much different than our own. </p>\n",
    "<p>This is why managers make the big money and get sacked when results go south.</p>"
   ]
  },
  {
   "cell_type": "code",
   "execution_count": 0,
   "metadata": {
    "dc": {
     "key": "46"
    },
    "tags": [
     "sample_code"
    ]
   },
   "outputs": [],
   "source": [
    "weights <- c(...., ...., ...., ....)\n",
    "javelin_team <- javelin_norm %>%\n",
    "# .... YOUR CODE FOR TASK 7\n",
    "# .... YOUR CODE FOR TASK 7\n",
    "# .... YOUR CODE FOR TASK 7\n",
    "# .... YOUR CODE FOR TASK 7\n",
    "\n",
    "javelin_team"
   ]
  },
  {
   "cell_type": "markdown",
   "metadata": {
    "dc": {
     "key": "53"
    },
    "deletable": false,
    "editable": false,
    "run_control": {
     "frozen": true
    },
    "tags": [
     "context"
    ]
   },
   "source": [
    "## 8. Get to know your players\n",
    "<p>The data has spoken! Now we have our five javelin throwers but we still don’t really know them. The <code>javelin_totals</code> data frame has the data that went into the decision process, so we will pull that up. This gives us an idea of what they each bring to the team. </p>\n",
    "<p>We can also take a look at how they compare to the pool of athletes we started from by taking the mean and maximum of each statistic.</p>"
   ]
  },
  {
   "cell_type": "code",
   "execution_count": 0,
   "metadata": {
    "dc": {
     "key": "53"
    },
    "tags": [
     "sample_code"
    ]
   },
   "outputs": [],
   "source": [
    "team_stats <- javelin_totals %>% \n",
    "# .... YOUR CODE FOR TASK 8 ....\n",
    "# .... YOUR CODE FOR TASK 8 ....\n",
    "\n",
    "pool_stats <- data.frame(do.call('cbind', sapply(javelin_totals, function(x) if(is.numeric(x)) c(max(x), mean(x)))))\n",
    "pool_stats$MaxAve <- c(\"Maximum\", \"Average\")\n",
    "pool_stats <- pool_stats %>%\n",
    "    gather(key=\"Statistic\", value=\"Aggregate\", -MaxAve)\n",
    "                                                 \n",
    "# Examine team stats\n",
    "# .... YOUR CODE FOR TASK 8 ...."
   ]
  },
  {
   "cell_type": "markdown",
   "metadata": {
    "dc": {
     "key": "60"
    },
    "deletable": false,
    "editable": false,
    "run_control": {
     "frozen": true
    },
    "tags": [
     "context"
    ]
   },
   "source": [
    "## 9. Make your case to the front office\n",
    "<p>The manager knows what she wants out of the team and has the data to support her choices, but she still needs to defend her decisions to the team owners. They do write the checks, after all. </p>\n",
    "<p>The owners are busy people. Many of them work other jobs and own other companies. They trust their managers, so as long the manager can give them an easy-to-digest visual presentation of why they should sign these five athletes out of all the others, they will approve.</p>\n",
    "<p>A series of plots showing how each athlete compares to the maximum and the average of each statistic will be enough for them.</p>"
   ]
  },
  {
   "cell_type": "code",
   "execution_count": 0,
   "metadata": {
    "dc": {
     "key": "60"
    },
    "tags": [
     "sample_code"
    ]
   },
   "outputs": [],
   "source": [
    "p <- team_stats %>%\n",
    "# .... YOUR CODE FOR TASK 9 ....\n",
    "# .... YOUR CODE FOR TASK 9 ....\n",
    "# .... YOUR CODE FOR TASK 9 ....\n",
    "# .... YOUR CODE FOR TASK 9 .... +\n",
    "  geom_hline(data=pool_stats, aes(yintercept=Aggregate, group=Statistic, color=MaxAve), size=1) +\n",
    "#   labs(title=\".... Your Team Name....: Women's Javelin\", color=\"Athlete pool maximum / average\") +\n",
    "  scale_fill_hue(l=70) +\n",
    "  scale_color_hue(l=20) +\n",
    "  theme_minimal() +\n",
    "  theme(axis.text.x=element_blank(), axis.title.x=element_blank(), axis.title.y=element_blank())\n",
    "  \n",
    "p"
   ]
  },
  {
   "cell_type": "markdown",
   "metadata": {
    "dc": {
     "key": "67"
    },
    "deletable": false,
    "editable": false,
    "run_control": {
     "frozen": true
    },
    "tags": [
     "context"
    ]
   },
   "source": [
    "## 10. Time to throw down\n",
    "<p>Before the athletics season opens, the manager will perform similar analyses for the other throws, the jumps, and running events. Then you'll game out different permutations of your team and your opponent to come up with the best lineup and make the best decisions on match day. For now, since it's what we know best and we're almost out of time, let's simulate a simple javelin match. </p>\n",
    "<p>The winner is the team that throws the highest combined distance: six throws from each of your three players against six throws from each of the opponent's three players.</p>"
   ]
  },
  {
   "cell_type": "code",
   "execution_count": 0,
   "metadata": {
    "dc": {
     "key": "67"
    },
    "tags": [
     "sample_code"
    ]
   },
   "outputs": [],
   "source": [
    "home <- c(....,....,....)\n",
    "away <- sample(1:nrow(javelin_totals), 3, replace=FALSE)\n",
    "\n",
    "HomeTeam <- round(sum(team_stats$TotalDistance[home]),2)\n",
    "AwayTeam <- round(sum(javelin_totals$TotalDistance[away]),2)\n",
    "\n",
    "print(paste0(\"Javelin match, Final Score: \", HomeTeam, \" - \", AwayTeam))\n",
    "ifelse(HomeTeam > AwayTeam, print(\"Win!\"), print(\"Sometimes you just have to take the L.\"))"
   ]
  }
 ],
 "metadata": {
  "kernelspec": {
   "display_name": "R",
   "language": "R",
   "name": "ir"
  },
  "language_info": {
   "codemirror_mode": "r",
   "file_extension": ".r",
   "mimetype": "text/x-r-source",
   "name": "R",
   "pygments_lexer": "r",
   "version": "4.2.3"
  }
 },
 "nbformat": 4,
 "nbformat_minor": 2
}
