{
 "cells": [
  {
   "cell_type": "markdown",
   "metadata": {
    "dc": {
     "key": "4"
    },
    "deletable": false,
    "editable": false,
    "run_control": {
     "frozen": true
    },
    "tags": [
     "context"
    ]
   },
   "source": [
    "## 1. Athletics needs a new breed of scouts and managers\n",
    "<p>Athletics goes back to the original Olympics. Since then, little has changed. Athletes compete as individuals, seeking to throw the farthest, jump the farthest (or highest) and run the fastest. But people like cheering for teams, waving banners and yelling like mad during matches, wearing their favorite player's jerseys and staying loyal to their side through thick and thin.  </p>\n",
    "<p><img src=\"https://assets.datacamp.com/production/project_177/img/NAL_Shield_Blue.png\" alt></p>\n",
    "<p>What if athletics was a team sport? It could potentially be more interesting and would give us a new set of sports analytics to discuss. We might even reduce the incentives to do unsavory things in the pursuit of <em>altius</em>, <em>fortius</em> and <em>citius</em>.</p>\n",
    "<p>This dataset contains results from American athletes in the horizontal jumps (triple jump and long jump) and throws (shot put, discus, javelin, hammer and weight). Let's read that in and examine women's javelin.</p>"
   ]
  },
  {
   "cell_type": "code",
   "execution_count": 1,
   "metadata": {
    "dc": {
     "key": "4"
    },
    "tags": [
     "sample_code"
    ]
   },
   "outputs": [
    {
     "name": "stderr",
     "output_type": "stream",
     "text": [
      "── \u001b[1mAttaching packages\u001b[22m ─────────────────────────────────────── tidyverse 1.3.1 ──\n",
      "\n",
      "\u001b[32m✔\u001b[39m \u001b[34mggplot2\u001b[39m 3.4.1     \u001b[32m✔\u001b[39m \u001b[34mpurrr  \u001b[39m 1.0.1\n",
      "\u001b[32m✔\u001b[39m \u001b[34mtibble \u001b[39m 3.2.1     \u001b[32m✔\u001b[39m \u001b[34mdplyr  \u001b[39m 1.1.1\n",
      "\u001b[32m✔\u001b[39m \u001b[34mtidyr  \u001b[39m 1.3.0     \u001b[32m✔\u001b[39m \u001b[34mstringr\u001b[39m 1.5.0\n",
      "\u001b[32m✔\u001b[39m \u001b[34mreadr  \u001b[39m 2.1.4     \u001b[32m✔\u001b[39m \u001b[34mforcats\u001b[39m 1.0.0\n",
      "\n",
      "── \u001b[1mConflicts\u001b[22m ────────────────────────────────────────── tidyverse_conflicts() ──\n",
      "\u001b[31m✖\u001b[39m \u001b[34mdplyr\u001b[39m::\u001b[32mfilter()\u001b[39m masks \u001b[34mstats\u001b[39m::filter()\n",
      "\u001b[31m✖\u001b[39m \u001b[34mdplyr\u001b[39m::\u001b[32mlag()\u001b[39m    masks \u001b[34mstats\u001b[39m::lag()\n",
      "\n",
      "\u001b[1mRows: \u001b[22m\u001b[34m2098\u001b[39m \u001b[1mColumns: \u001b[22m\u001b[34m10\u001b[39m\n",
      "\u001b[36m──\u001b[39m \u001b[1mColumn specification\u001b[22m \u001b[36m────────────────────────────────────────────────────────\u001b[39m\n",
      "\u001b[1mDelimiter:\u001b[22m \",\"\n",
      "\u001b[31mchr\u001b[39m (3): Event, Male_Female, Athlete\n",
      "\u001b[32mdbl\u001b[39m (7): EventID, Flight1, Flight2, Flight3, Flight4, Flight5, Flight6\n",
      "\n",
      "\u001b[36mℹ\u001b[39m Use `spec()` to retrieve the full column specification for this data.\n",
      "\u001b[36mℹ\u001b[39m Specify the column types or set `show_col_types = FALSE` to quiet this message.\n"
     ]
    },
    {
     "data": {
      "text/html": [
       "<table class=\"dataframe\">\n",
       "<caption>A tibble: 6 × 8</caption>\n",
       "<thead>\n",
       "\t<tr><th scope=col>EventID</th><th scope=col>Athlete</th><th scope=col>Flight1</th><th scope=col>Flight2</th><th scope=col>Flight3</th><th scope=col>Flight4</th><th scope=col>Flight5</th><th scope=col>Flight6</th></tr>\n",
       "\t<tr><th scope=col>&lt;dbl&gt;</th><th scope=col>&lt;chr&gt;</th><th scope=col>&lt;dbl&gt;</th><th scope=col>&lt;dbl&gt;</th><th scope=col>&lt;dbl&gt;</th><th scope=col>&lt;dbl&gt;</th><th scope=col>&lt;dbl&gt;</th><th scope=col>&lt;dbl&gt;</th></tr>\n",
       "</thead>\n",
       "<tbody>\n",
       "\t<tr><td>8</td><td>Brittany Borman   </td><td>54.02</td><td>51.21</td><td>57.31</td><td>52.57</td><td>56.97</td><td>60.91</td></tr>\n",
       "\t<tr><td>8</td><td>Ariana Ince       </td><td>48.97</td><td>54.85</td><td>53.58</td><td>55.13</td><td>55.27</td><td>56.66</td></tr>\n",
       "\t<tr><td>8</td><td>Kara Patterson    </td><td>50.14</td><td>52.10</td><td> 0.00</td><td>50.82</td><td>55.88</td><td>54.62</td></tr>\n",
       "\t<tr><td>8</td><td>Kimberley Hamilton</td><td>47.96</td><td> 0.00</td><td>50.93</td><td>54.13</td><td>55.15</td><td>53.34</td></tr>\n",
       "\t<tr><td>8</td><td>Laura Loht        </td><td>44.40</td><td>53.78</td><td>50.56</td><td>54.15</td><td> 0.00</td><td>49.02</td></tr>\n",
       "\t<tr><td>8</td><td>Brianna Bain      </td><td>49.31</td><td> 0.00</td><td>51.32</td><td> 0.00</td><td>48.64</td><td>53.05</td></tr>\n",
       "</tbody>\n",
       "</table>\n"
      ],
      "text/latex": [
       "A tibble: 6 × 8\n",
       "\\begin{tabular}{llllllll}\n",
       " EventID & Athlete & Flight1 & Flight2 & Flight3 & Flight4 & Flight5 & Flight6\\\\\n",
       " <dbl> & <chr> & <dbl> & <dbl> & <dbl> & <dbl> & <dbl> & <dbl>\\\\\n",
       "\\hline\n",
       "\t 8 & Brittany Borman    & 54.02 & 51.21 & 57.31 & 52.57 & 56.97 & 60.91\\\\\n",
       "\t 8 & Ariana Ince        & 48.97 & 54.85 & 53.58 & 55.13 & 55.27 & 56.66\\\\\n",
       "\t 8 & Kara Patterson     & 50.14 & 52.10 &  0.00 & 50.82 & 55.88 & 54.62\\\\\n",
       "\t 8 & Kimberley Hamilton & 47.96 &  0.00 & 50.93 & 54.13 & 55.15 & 53.34\\\\\n",
       "\t 8 & Laura Loht         & 44.40 & 53.78 & 50.56 & 54.15 &  0.00 & 49.02\\\\\n",
       "\t 8 & Brianna Bain       & 49.31 &  0.00 & 51.32 &  0.00 & 48.64 & 53.05\\\\\n",
       "\\end{tabular}\n"
      ],
      "text/markdown": [
       "\n",
       "A tibble: 6 × 8\n",
       "\n",
       "| EventID &lt;dbl&gt; | Athlete &lt;chr&gt; | Flight1 &lt;dbl&gt; | Flight2 &lt;dbl&gt; | Flight3 &lt;dbl&gt; | Flight4 &lt;dbl&gt; | Flight5 &lt;dbl&gt; | Flight6 &lt;dbl&gt; |\n",
       "|---|---|---|---|---|---|---|---|\n",
       "| 8 | Brittany Borman    | 54.02 | 51.21 | 57.31 | 52.57 | 56.97 | 60.91 |\n",
       "| 8 | Ariana Ince        | 48.97 | 54.85 | 53.58 | 55.13 | 55.27 | 56.66 |\n",
       "| 8 | Kara Patterson     | 50.14 | 52.10 |  0.00 | 50.82 | 55.88 | 54.62 |\n",
       "| 8 | Kimberley Hamilton | 47.96 |  0.00 | 50.93 | 54.13 | 55.15 | 53.34 |\n",
       "| 8 | Laura Loht         | 44.40 | 53.78 | 50.56 | 54.15 |  0.00 | 49.02 |\n",
       "| 8 | Brianna Bain       | 49.31 |  0.00 | 51.32 |  0.00 | 48.64 | 53.05 |\n",
       "\n"
      ],
      "text/plain": [
       "  EventID Athlete            Flight1 Flight2 Flight3 Flight4 Flight5 Flight6\n",
       "1 8       Brittany Borman    54.02   51.21   57.31   52.57   56.97   60.91  \n",
       "2 8       Ariana Ince        48.97   54.85   53.58   55.13   55.27   56.66  \n",
       "3 8       Kara Patterson     50.14   52.10    0.00   50.82   55.88   54.62  \n",
       "4 8       Kimberley Hamilton 47.96    0.00   50.93   54.13   55.15   53.34  \n",
       "5 8       Laura Loht         44.40   53.78   50.56   54.15    0.00   49.02  \n",
       "6 8       Brianna Bain       49.31    0.00   51.32    0.00   48.64   53.05  "
      ]
     },
     "metadata": {},
     "output_type": "display_data"
    },
    {
     "data": {
      "text/plain": [
       "    EventID         Athlete             Flight1         Flight2     \n",
       " Min.   :   8.0   Length:178         Min.   : 0.00   Min.   : 0.00  \n",
       " 1st Qu.: 178.0   Class :character   1st Qu.:41.53   1st Qu.:40.23  \n",
       " Median : 511.0   Mode  :character   Median :48.85   Median :48.85  \n",
       " Mean   : 796.8                      Mean   :40.80   Mean   :39.87  \n",
       " 3rd Qu.:1703.0                      3rd Qu.:53.20   3rd Qu.:53.07  \n",
       " Max.   :1859.0                      Max.   :64.94   Max.   :61.38  \n",
       "    Flight3         Flight4         Flight5         Flight6     \n",
       " Min.   : 0.00   Min.   : 0.00   Min.   : 0.00   Min.   : 0.00  \n",
       " 1st Qu.: 0.00   1st Qu.:40.57   1st Qu.: 0.00   1st Qu.: 0.00  \n",
       " Median :47.34   Median :49.30   Median :48.01   Median :46.80  \n",
       " Mean   :34.22   Mean   :39.37   Mean   :32.97   Mean   :34.82  \n",
       " 3rd Qu.:52.08   3rd Qu.:52.10   3rd Qu.:51.44   3rd Qu.:52.44  \n",
       " Max.   :62.42   Max.   :61.56   Max.   :60.84   Max.   :64.45  "
      ]
     },
     "metadata": {},
     "output_type": "display_data"
    }
   ],
   "source": [
    "# Load the tidyverse package\n",
    "library(tidyverse)\n",
    "\n",
    "# Import the full dataset\n",
    "data <- read_csv('datasets/athletics.csv')\n",
    "\n",
    "# Select the results of interest: women's javelin\n",
    "javelin <- data %>%\n",
    "  filter(Male_Female == \"Female\" & Event == \"Javelin\") %>%\n",
    "  select(-Male_Female, -Event)\n",
    " \n",
    "# Give yourself a snapshot of your data \n",
    "head(javelin)\n",
    "summary(javelin)"
   ]
  },
  {
   "cell_type": "markdown",
   "metadata": {
    "dc": {
     "key": "11"
    },
    "deletable": false,
    "editable": false,
    "run_control": {
     "frozen": true
    },
    "tags": [
     "context"
    ]
   },
   "source": [
    "## 2. Managers love tidy data\n",
    "<p>This view shows each athlete’s results at individual track meets. Athletes have six throws, but in these meets only one – their longest – actually matters. If all we wanted to do was talk regular track and field, we would have a very easy task: create a new column taking the max of each row, arrange the data frame by that column in descending order and we’d be done.</p>\n",
    "<p>But our managers need to do and know much more than that! This is a sport of strategy, where every throw matters. Managers need a deeper analysis to choose their teams, craft their plan and make decisions on match-day.</p>\n",
    "<p>We first need to make this standard “wide” view tidy data. We’re not completely done with the wide view, but the tidy data will allow us to compute our summary statistics. </p>"
   ]
  },
  {
   "cell_type": "code",
   "execution_count": 2,
   "metadata": {
    "dc": {
     "key": "11"
    },
    "tags": [
     "sample_code"
    ]
   },
   "outputs": [
    {
     "data": {
      "text/html": [
       "<table class=\"dataframe\">\n",
       "<caption>A tibble: 6 × 4</caption>\n",
       "<thead>\n",
       "\t<tr><th scope=col>EventID</th><th scope=col>Athlete</th><th scope=col>Flight</th><th scope=col>Distance</th></tr>\n",
       "\t<tr><th scope=col>&lt;dbl&gt;</th><th scope=col>&lt;chr&gt;</th><th scope=col>&lt;dbl&gt;</th><th scope=col>&lt;dbl&gt;</th></tr>\n",
       "</thead>\n",
       "<tbody>\n",
       "\t<tr><td>8</td><td>Brittany Borman   </td><td>1</td><td>54.02</td></tr>\n",
       "\t<tr><td>8</td><td>Ariana Ince       </td><td>1</td><td>48.97</td></tr>\n",
       "\t<tr><td>8</td><td>Kara Patterson    </td><td>1</td><td>50.14</td></tr>\n",
       "\t<tr><td>8</td><td>Kimberley Hamilton</td><td>1</td><td>47.96</td></tr>\n",
       "\t<tr><td>8</td><td>Laura Loht        </td><td>1</td><td>44.40</td></tr>\n",
       "\t<tr><td>8</td><td>Brianna Bain      </td><td>1</td><td>49.31</td></tr>\n",
       "</tbody>\n",
       "</table>\n"
      ],
      "text/latex": [
       "A tibble: 6 × 4\n",
       "\\begin{tabular}{llll}\n",
       " EventID & Athlete & Flight & Distance\\\\\n",
       " <dbl> & <chr> & <dbl> & <dbl>\\\\\n",
       "\\hline\n",
       "\t 8 & Brittany Borman    & 1 & 54.02\\\\\n",
       "\t 8 & Ariana Ince        & 1 & 48.97\\\\\n",
       "\t 8 & Kara Patterson     & 1 & 50.14\\\\\n",
       "\t 8 & Kimberley Hamilton & 1 & 47.96\\\\\n",
       "\t 8 & Laura Loht         & 1 & 44.40\\\\\n",
       "\t 8 & Brianna Bain       & 1 & 49.31\\\\\n",
       "\\end{tabular}\n"
      ],
      "text/markdown": [
       "\n",
       "A tibble: 6 × 4\n",
       "\n",
       "| EventID &lt;dbl&gt; | Athlete &lt;chr&gt; | Flight &lt;dbl&gt; | Distance &lt;dbl&gt; |\n",
       "|---|---|---|---|\n",
       "| 8 | Brittany Borman    | 1 | 54.02 |\n",
       "| 8 | Ariana Ince        | 1 | 48.97 |\n",
       "| 8 | Kara Patterson     | 1 | 50.14 |\n",
       "| 8 | Kimberley Hamilton | 1 | 47.96 |\n",
       "| 8 | Laura Loht         | 1 | 44.40 |\n",
       "| 8 | Brianna Bain       | 1 | 49.31 |\n",
       "\n"
      ],
      "text/plain": [
       "  EventID Athlete            Flight Distance\n",
       "1 8       Brittany Borman    1      54.02   \n",
       "2 8       Ariana Ince        1      48.97   \n",
       "3 8       Kara Patterson     1      50.14   \n",
       "4 8       Kimberley Hamilton 1      47.96   \n",
       "5 8       Laura Loht         1      44.40   \n",
       "6 8       Brianna Bain       1      49.31   "
      ]
     },
     "metadata": {},
     "output_type": "display_data"
    }
   ],
   "source": [
    "# Assign the tidy data to javelin_long\n",
    "javelin_long <- javelin %>% gather(key = \"Flight\", value = \"Distance\", Flight1:Flight6)\n",
    "\n",
    "# Make Flight a numeric\n",
    "javelin_long$Flight <- as.numeric(sub(\"Flight\", \"\", javelin_long$Flight))\n",
    "\n",
    "# Examine the first 6 rows\n",
    "head(javelin_long)"
   ]
  },
  {
   "cell_type": "markdown",
   "metadata": {
    "dc": {
     "key": "18"
    },
    "deletable": false,
    "editable": false,
    "run_control": {
     "frozen": true
    },
    "tags": [
     "context"
    ]
   },
   "source": [
    "## 3. Every throw matters\n",
    "<p>A throw is a foul if the athlete commits a technical violation during the throw. In javelin, the most common foul is stepping over the release line. Traditionally, the throw is scored as an “F” and it has no further significance. Athletes can also choose to pass on a throw – scored as a “P” – if they are content with their earlier throws and want to “save themselves” for later.</p>\n",
    "<p>Remember when we said every throw matters? Here, the goal is not for each player to have one great throw. All their throws in each event are summed together, and the team with the highest total distance wins the point. Fouls are scored as 0 and passing, well, your manager and teammates would not be pleased.</p>\n",
    "<p>Here, we examine which athletes cover the most distance in each of their meets, along with two ways to talk about their consistency.</p>"
   ]
  },
  {
   "cell_type": "code",
   "execution_count": 3,
   "metadata": {
    "dc": {
     "key": "18"
    },
    "tags": [
     "sample_code"
    ]
   },
   "outputs": [
    {
     "name": "stderr",
     "output_type": "stream",
     "text": [
      "\u001b[1m\u001b[22m`summarise()` has grouped output by 'Athlete'. You can override using the\n",
      "`.groups` argument.\n"
     ]
    },
    {
     "data": {
      "text/html": [
       "<table class=\"dataframe\">\n",
       "<caption>A grouped_df: 11 × 5</caption>\n",
       "<thead>\n",
       "\t<tr><th scope=col>Athlete</th><th scope=col>EventID</th><th scope=col>TotalDistance</th><th scope=col>StandardDev</th><th scope=col>Success</th></tr>\n",
       "\t<tr><th scope=col>&lt;chr&gt;</th><th scope=col>&lt;dbl&gt;</th><th scope=col>&lt;dbl&gt;</th><th scope=col>&lt;dbl&gt;</th><th scope=col>&lt;int&gt;</th></tr>\n",
       "</thead>\n",
       "<tbody>\n",
       "\t<tr><td>Emma Fitzgerald</td><td> 176</td><td> 89.40</td><td>1.966</td><td>2</td></tr>\n",
       "\t<tr><td>Emma Fitzgerald</td><td> 815</td><td>217.08</td><td>1.262</td><td>5</td></tr>\n",
       "\t<tr><td>Erma Gene Evans</td><td> 247</td><td>196.99</td><td>1.806</td><td>4</td></tr>\n",
       "\t<tr><td>Fawn Miller    </td><td>  20</td><td>227.19</td><td>0.317</td><td>4</td></tr>\n",
       "\t<tr><td>Fawn Miller    </td><td>1575</td><td>149.15</td><td>1.271</td><td>3</td></tr>\n",
       "\t<tr><td>Gabby Kearney  </td><td> 176</td><td>134.69</td><td>2.748</td><td>3</td></tr>\n",
       "\t<tr><td>Gabby Kearney  </td><td> 815</td><td>240.72</td><td>1.479</td><td>5</td></tr>\n",
       "\t<tr><td>Grace Zollman  </td><td> 178</td><td>180.26</td><td>0.731</td><td>4</td></tr>\n",
       "\t<tr><td>Grace Zollman  </td><td> 180</td><td>236.12</td><td>3.201</td><td>5</td></tr>\n",
       "\t<tr><td>Grace Zollman  </td><td> 247</td><td>196.23</td><td>3.037</td><td>4</td></tr>\n",
       "\t<tr><td>Haley Crouser  </td><td> 938</td><td>312.02</td><td>2.295</td><td>6</td></tr>\n",
       "</tbody>\n",
       "</table>\n"
      ],
      "text/latex": [
       "A grouped\\_df: 11 × 5\n",
       "\\begin{tabular}{lllll}\n",
       " Athlete & EventID & TotalDistance & StandardDev & Success\\\\\n",
       " <chr> & <dbl> & <dbl> & <dbl> & <int>\\\\\n",
       "\\hline\n",
       "\t Emma Fitzgerald &  176 &  89.40 & 1.966 & 2\\\\\n",
       "\t Emma Fitzgerald &  815 & 217.08 & 1.262 & 5\\\\\n",
       "\t Erma Gene Evans &  247 & 196.99 & 1.806 & 4\\\\\n",
       "\t Fawn Miller     &   20 & 227.19 & 0.317 & 4\\\\\n",
       "\t Fawn Miller     & 1575 & 149.15 & 1.271 & 3\\\\\n",
       "\t Gabby Kearney   &  176 & 134.69 & 2.748 & 3\\\\\n",
       "\t Gabby Kearney   &  815 & 240.72 & 1.479 & 5\\\\\n",
       "\t Grace Zollman   &  178 & 180.26 & 0.731 & 4\\\\\n",
       "\t Grace Zollman   &  180 & 236.12 & 3.201 & 5\\\\\n",
       "\t Grace Zollman   &  247 & 196.23 & 3.037 & 4\\\\\n",
       "\t Haley Crouser   &  938 & 312.02 & 2.295 & 6\\\\\n",
       "\\end{tabular}\n"
      ],
      "text/markdown": [
       "\n",
       "A grouped_df: 11 × 5\n",
       "\n",
       "| Athlete &lt;chr&gt; | EventID &lt;dbl&gt; | TotalDistance &lt;dbl&gt; | StandardDev &lt;dbl&gt; | Success &lt;int&gt; |\n",
       "|---|---|---|---|---|\n",
       "| Emma Fitzgerald |  176 |  89.40 | 1.966 | 2 |\n",
       "| Emma Fitzgerald |  815 | 217.08 | 1.262 | 5 |\n",
       "| Erma Gene Evans |  247 | 196.99 | 1.806 | 4 |\n",
       "| Fawn Miller     |   20 | 227.19 | 0.317 | 4 |\n",
       "| Fawn Miller     | 1575 | 149.15 | 1.271 | 3 |\n",
       "| Gabby Kearney   |  176 | 134.69 | 2.748 | 3 |\n",
       "| Gabby Kearney   |  815 | 240.72 | 1.479 | 5 |\n",
       "| Grace Zollman   |  178 | 180.26 | 0.731 | 4 |\n",
       "| Grace Zollman   |  180 | 236.12 | 3.201 | 5 |\n",
       "| Grace Zollman   |  247 | 196.23 | 3.037 | 4 |\n",
       "| Haley Crouser   |  938 | 312.02 | 2.295 | 6 |\n",
       "\n"
      ],
      "text/plain": [
       "   Athlete         EventID TotalDistance StandardDev Success\n",
       "1  Emma Fitzgerald  176     89.40        1.966       2      \n",
       "2  Emma Fitzgerald  815    217.08        1.262       5      \n",
       "3  Erma Gene Evans  247    196.99        1.806       4      \n",
       "4  Fawn Miller       20    227.19        0.317       4      \n",
       "5  Fawn Miller     1575    149.15        1.271       3      \n",
       "6  Gabby Kearney    176    134.69        2.748       3      \n",
       "7  Gabby Kearney    815    240.72        1.479       5      \n",
       "8  Grace Zollman    178    180.26        0.731       4      \n",
       "9  Grace Zollman    180    236.12        3.201       5      \n",
       "10 Grace Zollman    247    196.23        3.037       4      \n",
       "11 Haley Crouser    938    312.02        2.295       6      "
      ]
     },
     "metadata": {},
     "output_type": "display_data"
    }
   ],
   "source": [
    "javelin_totals <- javelin_long %>%\n",
    "  filter(Distance > 0) %>%\n",
    "  group_by(Athlete, EventID) %>%\n",
    "  summarize(TotalDistance = sum(Distance), StandardDev = round(sd(Distance),3), Success = n())\n",
    "\n",
    "# View 10 rows of javelin_totals\n",
    "javelin_totals[60:70,]"
   ]
  },
  {
   "cell_type": "markdown",
   "metadata": {
    "dc": {
     "key": "25"
    },
    "deletable": false,
    "editable": false,
    "run_control": {
     "frozen": true
    },
    "tags": [
     "context"
    ]
   },
   "source": [
    "## 4. Find the clutch performers\n",
    "<p>In many traditional track meets, after the first three throws the leaders in the field are whittled down to the top eight (sometimes more, sometimes less) athletes. Like the meet overall, this is solely based on their best throw of those first three.&nbsp;</p>\n",
    "<p>We give the choice to the managers. Of the three athletes who start each event, the manager chooses the two who will continue on for the last three throws. The manager will need to know which players tend to come alive – or at least maintain their form – in the late stages of a match. They also need to know if a player’s first three throws are consistent with their playing history. Otherwise, they could make a poor decision about who stays in based only on the sample unfolding in front of them.</p>\n",
    "<p>For now, let’s examine just our top-line stat – total distance covered – for differences between early and late stages of the match.</p>"
   ]
  },
  {
   "cell_type": "code",
   "execution_count": 4,
   "metadata": {
    "dc": {
     "key": "25"
    },
    "tags": [
     "sample_code"
    ]
   },
   "outputs": [
    {
     "data": {
      "text/html": [
       "<table class=\"dataframe\">\n",
       "<caption>A tibble: 10 × 11</caption>\n",
       "<thead>\n",
       "\t<tr><th scope=col>EventID</th><th scope=col>Athlete</th><th scope=col>Flight1</th><th scope=col>Flight2</th><th scope=col>Flight3</th><th scope=col>Flight4</th><th scope=col>Flight5</th><th scope=col>Flight6</th><th scope=col>early</th><th scope=col>late</th><th scope=col>diff</th></tr>\n",
       "\t<tr><th scope=col>&lt;dbl&gt;</th><th scope=col>&lt;chr&gt;</th><th scope=col>&lt;dbl&gt;</th><th scope=col>&lt;dbl&gt;</th><th scope=col>&lt;dbl&gt;</th><th scope=col>&lt;dbl&gt;</th><th scope=col>&lt;dbl&gt;</th><th scope=col>&lt;dbl&gt;</th><th scope=col>&lt;dbl&gt;</th><th scope=col>&lt;dbl&gt;</th><th scope=col>&lt;dbl&gt;</th></tr>\n",
       "</thead>\n",
       "<tbody>\n",
       "\t<tr><td>1773</td><td>Melissa Fraser        </td><td>47.62</td><td>48.68</td><td>47.52</td><td> 0.00</td><td> 0.00</td><td>45.61</td><td>143.82</td><td> 45.61</td><td> -98.21</td></tr>\n",
       "\t<tr><td>1773</td><td>Kaelyn Carlson-Shipley</td><td>43.39</td><td>44.90</td><td>40.00</td><td>43.17</td><td>40.29</td><td>40.58</td><td>128.29</td><td>124.04</td><td>  -4.25</td></tr>\n",
       "\t<tr><td>1859</td><td>Kara Winger           </td><td>56.89</td><td>52.93</td><td>55.48</td><td>54.45</td><td>57.59</td><td>62.88</td><td>165.30</td><td>174.92</td><td>   9.62</td></tr>\n",
       "\t<tr><td>1859</td><td>Avione Allgood        </td><td>56.54</td><td> 0.00</td><td>54.39</td><td>51.61</td><td>54.32</td><td> 0.00</td><td>110.93</td><td>105.93</td><td>  -5.00</td></tr>\n",
       "\t<tr><td>1859</td><td>Ariana Ince           </td><td>51.93</td><td>53.46</td><td>52.45</td><td>55.97</td><td>55.18</td><td> 0.00</td><td>157.84</td><td>111.15</td><td> -46.69</td></tr>\n",
       "\t<tr><td>1859</td><td>Bethany Drake         </td><td>49.88</td><td>51.02</td><td>54.20</td><td> 0.00</td><td>50.59</td><td> 0.00</td><td>155.10</td><td> 50.59</td><td>-104.51</td></tr>\n",
       "\t<tr><td>1859</td><td>Alyssa Olin           </td><td> 0.00</td><td>53.74</td><td>52.08</td><td>51.48</td><td> 0.00</td><td>52.78</td><td>105.82</td><td>104.26</td><td>  -1.56</td></tr>\n",
       "\t<tr><td>1859</td><td>Dominique Ouellette   </td><td>49.60</td><td>44.22</td><td>50.60</td><td>51.26</td><td>49.25</td><td>53.17</td><td>144.42</td><td>153.68</td><td>   9.26</td></tr>\n",
       "\t<tr><td>1859</td><td>Kristen Clark         </td><td>47.18</td><td>50.93</td><td> 0.00</td><td>48.17</td><td>49.27</td><td>49.61</td><td> 98.11</td><td>147.05</td><td>  48.94</td></tr>\n",
       "\t<tr><td>1859</td><td>Rebekah Wales         </td><td>48.83</td><td> 0.00</td><td>50.38</td><td>48.23</td><td> 0.00</td><td>46.65</td><td> 99.21</td><td> 94.88</td><td>  -4.33</td></tr>\n",
       "</tbody>\n",
       "</table>\n"
      ],
      "text/latex": [
       "A tibble: 10 × 11\n",
       "\\begin{tabular}{lllllllllll}\n",
       " EventID & Athlete & Flight1 & Flight2 & Flight3 & Flight4 & Flight5 & Flight6 & early & late & diff\\\\\n",
       " <dbl> & <chr> & <dbl> & <dbl> & <dbl> & <dbl> & <dbl> & <dbl> & <dbl> & <dbl> & <dbl>\\\\\n",
       "\\hline\n",
       "\t 1773 & Melissa Fraser         & 47.62 & 48.68 & 47.52 &  0.00 &  0.00 & 45.61 & 143.82 &  45.61 &  -98.21\\\\\n",
       "\t 1773 & Kaelyn Carlson-Shipley & 43.39 & 44.90 & 40.00 & 43.17 & 40.29 & 40.58 & 128.29 & 124.04 &   -4.25\\\\\n",
       "\t 1859 & Kara Winger            & 56.89 & 52.93 & 55.48 & 54.45 & 57.59 & 62.88 & 165.30 & 174.92 &    9.62\\\\\n",
       "\t 1859 & Avione Allgood         & 56.54 &  0.00 & 54.39 & 51.61 & 54.32 &  0.00 & 110.93 & 105.93 &   -5.00\\\\\n",
       "\t 1859 & Ariana Ince            & 51.93 & 53.46 & 52.45 & 55.97 & 55.18 &  0.00 & 157.84 & 111.15 &  -46.69\\\\\n",
       "\t 1859 & Bethany Drake          & 49.88 & 51.02 & 54.20 &  0.00 & 50.59 &  0.00 & 155.10 &  50.59 & -104.51\\\\\n",
       "\t 1859 & Alyssa Olin            &  0.00 & 53.74 & 52.08 & 51.48 &  0.00 & 52.78 & 105.82 & 104.26 &   -1.56\\\\\n",
       "\t 1859 & Dominique Ouellette    & 49.60 & 44.22 & 50.60 & 51.26 & 49.25 & 53.17 & 144.42 & 153.68 &    9.26\\\\\n",
       "\t 1859 & Kristen Clark          & 47.18 & 50.93 &  0.00 & 48.17 & 49.27 & 49.61 &  98.11 & 147.05 &   48.94\\\\\n",
       "\t 1859 & Rebekah Wales          & 48.83 &  0.00 & 50.38 & 48.23 &  0.00 & 46.65 &  99.21 &  94.88 &   -4.33\\\\\n",
       "\\end{tabular}\n"
      ],
      "text/markdown": [
       "\n",
       "A tibble: 10 × 11\n",
       "\n",
       "| EventID &lt;dbl&gt; | Athlete &lt;chr&gt; | Flight1 &lt;dbl&gt; | Flight2 &lt;dbl&gt; | Flight3 &lt;dbl&gt; | Flight4 &lt;dbl&gt; | Flight5 &lt;dbl&gt; | Flight6 &lt;dbl&gt; | early &lt;dbl&gt; | late &lt;dbl&gt; | diff &lt;dbl&gt; |\n",
       "|---|---|---|---|---|---|---|---|---|---|---|\n",
       "| 1773 | Melissa Fraser         | 47.62 | 48.68 | 47.52 |  0.00 |  0.00 | 45.61 | 143.82 |  45.61 |  -98.21 |\n",
       "| 1773 | Kaelyn Carlson-Shipley | 43.39 | 44.90 | 40.00 | 43.17 | 40.29 | 40.58 | 128.29 | 124.04 |   -4.25 |\n",
       "| 1859 | Kara Winger            | 56.89 | 52.93 | 55.48 | 54.45 | 57.59 | 62.88 | 165.30 | 174.92 |    9.62 |\n",
       "| 1859 | Avione Allgood         | 56.54 |  0.00 | 54.39 | 51.61 | 54.32 |  0.00 | 110.93 | 105.93 |   -5.00 |\n",
       "| 1859 | Ariana Ince            | 51.93 | 53.46 | 52.45 | 55.97 | 55.18 |  0.00 | 157.84 | 111.15 |  -46.69 |\n",
       "| 1859 | Bethany Drake          | 49.88 | 51.02 | 54.20 |  0.00 | 50.59 |  0.00 | 155.10 |  50.59 | -104.51 |\n",
       "| 1859 | Alyssa Olin            |  0.00 | 53.74 | 52.08 | 51.48 |  0.00 | 52.78 | 105.82 | 104.26 |   -1.56 |\n",
       "| 1859 | Dominique Ouellette    | 49.60 | 44.22 | 50.60 | 51.26 | 49.25 | 53.17 | 144.42 | 153.68 |    9.26 |\n",
       "| 1859 | Kristen Clark          | 47.18 | 50.93 |  0.00 | 48.17 | 49.27 | 49.61 |  98.11 | 147.05 |   48.94 |\n",
       "| 1859 | Rebekah Wales          | 48.83 |  0.00 | 50.38 | 48.23 |  0.00 | 46.65 |  99.21 |  94.88 |   -4.33 |\n",
       "\n"
      ],
      "text/plain": [
       "   EventID Athlete                Flight1 Flight2 Flight3 Flight4 Flight5\n",
       "1  1773    Melissa Fraser         47.62   48.68   47.52    0.00    0.00  \n",
       "2  1773    Kaelyn Carlson-Shipley 43.39   44.90   40.00   43.17   40.29  \n",
       "3  1859    Kara Winger            56.89   52.93   55.48   54.45   57.59  \n",
       "4  1859    Avione Allgood         56.54    0.00   54.39   51.61   54.32  \n",
       "5  1859    Ariana Ince            51.93   53.46   52.45   55.97   55.18  \n",
       "6  1859    Bethany Drake          49.88   51.02   54.20    0.00   50.59  \n",
       "7  1859    Alyssa Olin             0.00   53.74   52.08   51.48    0.00  \n",
       "8  1859    Dominique Ouellette    49.60   44.22   50.60   51.26   49.25  \n",
       "9  1859    Kristen Clark          47.18   50.93    0.00   48.17   49.27  \n",
       "10 1859    Rebekah Wales          48.83    0.00   50.38   48.23    0.00  \n",
       "   Flight6 early  late   diff   \n",
       "1  45.61   143.82  45.61  -98.21\n",
       "2  40.58   128.29 124.04   -4.25\n",
       "3  62.88   165.30 174.92    9.62\n",
       "4   0.00   110.93 105.93   -5.00\n",
       "5   0.00   157.84 111.15  -46.69\n",
       "6   0.00   155.10  50.59 -104.51\n",
       "7  52.78   105.82 104.26   -1.56\n",
       "8  53.17   144.42 153.68    9.26\n",
       "9  49.61    98.11 147.05   48.94\n",
       "10 46.65    99.21  94.88   -4.33"
      ]
     },
     "metadata": {},
     "output_type": "display_data"
    }
   ],
   "source": [
    "javelin <- javelin %>%\n",
    "  mutate(early = Flight1 +Flight2 + Flight3, late = Flight4 + Flight5 + Flight6, diff = late - early)\n",
    "\n",
    "# Examine the last ten rows\n",
    "tail(javelin, 10)"
   ]
  },
  {
   "cell_type": "markdown",
   "metadata": {
    "dc": {
     "key": "32"
    },
    "deletable": false,
    "editable": false,
    "run_control": {
     "frozen": true
    },
    "tags": [
     "context"
    ]
   },
   "source": [
    "## 5. Pull the pieces together for a new look at the athletes\n",
    "<p>The aggregate stats are in two data frame. By joining the two together, we can take our first rough look at how the athletes compare.</p>"
   ]
  },
  {
   "cell_type": "code",
   "execution_count": 5,
   "metadata": {
    "dc": {
     "key": "32"
    },
    "tags": [
     "sample_code"
    ]
   },
   "outputs": [
    {
     "data": {
      "text/html": [
       "<table class=\"dataframe\">\n",
       "<caption>A grouped_df: 10 × 5</caption>\n",
       "<thead>\n",
       "\t<tr><th scope=col>Athlete</th><th scope=col>TotalDistance</th><th scope=col>StandardDev</th><th scope=col>Success</th><th scope=col>diff</th></tr>\n",
       "\t<tr><th scope=col>&lt;chr&gt;</th><th scope=col>&lt;dbl&gt;</th><th scope=col>&lt;dbl&gt;</th><th scope=col>&lt;int&gt;</th><th scope=col>&lt;dbl&gt;</th></tr>\n",
       "</thead>\n",
       "<tbody>\n",
       "\t<tr><td>Abigail Gomez          </td><td>151.76</td><td>1.232</td><td>3</td><td> -52.88</td></tr>\n",
       "\t<tr><td>Abigail Gomez          </td><td>244.12</td><td>1.633</td><td>5</td><td> -48.00</td></tr>\n",
       "\t<tr><td>Abigail Gomez          </td><td>206.71</td><td>2.969</td><td>4</td><td>-110.39</td></tr>\n",
       "\t<tr><td>Abigail Gomez          </td><td>221.83</td><td>1.295</td><td>4</td><td>  -3.11</td></tr>\n",
       "\t<tr><td>Abigail Gomez          </td><td>154.80</td><td>1.028</td><td>3</td><td>  53.40</td></tr>\n",
       "\t<tr><td>Abigail Gomez Hernandez</td><td>135.08</td><td>0.718</td><td>3</td><td>  45.56</td></tr>\n",
       "\t<tr><td>Alicia DeShasier       </td><td>270.12</td><td>2.155</td><td>5</td><td>  59.98</td></tr>\n",
       "\t<tr><td>Alicia DeShasier       </td><td>319.86</td><td>2.257</td><td>6</td><td>   0.74</td></tr>\n",
       "\t<tr><td>Alicia DeShasier       </td><td>274.69</td><td>1.534</td><td>5</td><td>  53.47</td></tr>\n",
       "\t<tr><td>Allison Updike         </td><td>146.85</td><td>3.844</td><td>3</td><td> -46.63</td></tr>\n",
       "</tbody>\n",
       "</table>\n"
      ],
      "text/latex": [
       "A grouped\\_df: 10 × 5\n",
       "\\begin{tabular}{lllll}\n",
       " Athlete & TotalDistance & StandardDev & Success & diff\\\\\n",
       " <chr> & <dbl> & <dbl> & <int> & <dbl>\\\\\n",
       "\\hline\n",
       "\t Abigail Gomez           & 151.76 & 1.232 & 3 &  -52.88\\\\\n",
       "\t Abigail Gomez           & 244.12 & 1.633 & 5 &  -48.00\\\\\n",
       "\t Abigail Gomez           & 206.71 & 2.969 & 4 & -110.39\\\\\n",
       "\t Abigail Gomez           & 221.83 & 1.295 & 4 &   -3.11\\\\\n",
       "\t Abigail Gomez           & 154.80 & 1.028 & 3 &   53.40\\\\\n",
       "\t Abigail Gomez Hernandez & 135.08 & 0.718 & 3 &   45.56\\\\\n",
       "\t Alicia DeShasier        & 270.12 & 2.155 & 5 &   59.98\\\\\n",
       "\t Alicia DeShasier        & 319.86 & 2.257 & 6 &    0.74\\\\\n",
       "\t Alicia DeShasier        & 274.69 & 1.534 & 5 &   53.47\\\\\n",
       "\t Allison Updike          & 146.85 & 3.844 & 3 &  -46.63\\\\\n",
       "\\end{tabular}\n"
      ],
      "text/markdown": [
       "\n",
       "A grouped_df: 10 × 5\n",
       "\n",
       "| Athlete &lt;chr&gt; | TotalDistance &lt;dbl&gt; | StandardDev &lt;dbl&gt; | Success &lt;int&gt; | diff &lt;dbl&gt; |\n",
       "|---|---|---|---|---|\n",
       "| Abigail Gomez           | 151.76 | 1.232 | 3 |  -52.88 |\n",
       "| Abigail Gomez           | 244.12 | 1.633 | 5 |  -48.00 |\n",
       "| Abigail Gomez           | 206.71 | 2.969 | 4 | -110.39 |\n",
       "| Abigail Gomez           | 221.83 | 1.295 | 4 |   -3.11 |\n",
       "| Abigail Gomez           | 154.80 | 1.028 | 3 |   53.40 |\n",
       "| Abigail Gomez Hernandez | 135.08 | 0.718 | 3 |   45.56 |\n",
       "| Alicia DeShasier        | 270.12 | 2.155 | 5 |   59.98 |\n",
       "| Alicia DeShasier        | 319.86 | 2.257 | 6 |    0.74 |\n",
       "| Alicia DeShasier        | 274.69 | 1.534 | 5 |   53.47 |\n",
       "| Allison Updike          | 146.85 | 3.844 | 3 |  -46.63 |\n",
       "\n"
      ],
      "text/plain": [
       "   Athlete                 TotalDistance StandardDev Success diff   \n",
       "1  Abigail Gomez           151.76        1.232       3        -52.88\n",
       "2  Abigail Gomez           244.12        1.633       5        -48.00\n",
       "3  Abigail Gomez           206.71        2.969       4       -110.39\n",
       "4  Abigail Gomez           221.83        1.295       4         -3.11\n",
       "5  Abigail Gomez           154.80        1.028       3         53.40\n",
       "6  Abigail Gomez Hernandez 135.08        0.718       3         45.56\n",
       "7  Alicia DeShasier        270.12        2.155       5         59.98\n",
       "8  Alicia DeShasier        319.86        2.257       6          0.74\n",
       "9  Alicia DeShasier        274.69        1.534       5         53.47\n",
       "10 Allison Updike          146.85        3.844       3        -46.63"
      ]
     },
     "metadata": {},
     "output_type": "display_data"
    }
   ],
   "source": [
    "javelin_totals <- javelin_totals %>%\n",
    "  left_join(javelin, by = c('EventID', 'Athlete')) %>%\n",
    "  select(Athlete, TotalDistance, StandardDev, Success, diff)\n",
    "\n",
    "# Examine the first ten rows\n",
    "head(javelin_totals, 10)"
   ]
  },
  {
   "cell_type": "markdown",
   "metadata": {
    "dc": {
     "key": "39"
    },
    "deletable": false,
    "editable": false,
    "run_control": {
     "frozen": true
    },
    "tags": [
     "context"
    ]
   },
   "source": [
    "## 6. Normalize the data to compare across stats\n",
    "<p>The four summary statistics - total distance, standard deviation, number of successful throws and our measure of early vs. late - are on different scales and measure very different things. Managers need to be able to compare these to each other and then weigh them based on what is most important to their vision and strategy for the team. A simple normalization will allow for these comparisons.</p>"
   ]
  },
  {
   "cell_type": "code",
   "execution_count": 6,
   "metadata": {
    "dc": {
     "key": "39"
    },
    "tags": [
     "sample_code"
    ]
   },
   "outputs": [
    {
     "data": {
      "text/html": [
       "<table class=\"dataframe\">\n",
       "<caption>A tibble: 6 × 5</caption>\n",
       "<thead>\n",
       "\t<tr><th scope=col>Athlete</th><th scope=col>TotalDistance</th><th scope=col>StandardDev</th><th scope=col>Success</th><th scope=col>diff</th></tr>\n",
       "\t<tr><th scope=col>&lt;chr&gt;</th><th scope=col>&lt;dbl&gt;</th><th scope=col>&lt;dbl&gt;</th><th scope=col>&lt;dbl&gt;</th><th scope=col>&lt;dbl&gt;</th></tr>\n",
       "</thead>\n",
       "<tbody>\n",
       "\t<tr><td>Abigail Gomez          </td><td>0.4459534</td><td>0.2678973</td><td>0.4500000</td><td>0.3828542</td></tr>\n",
       "\t<tr><td>Abigail Gomez Hernandez</td><td>0.2439924</td><td>0.1146165</td><td>0.2500000</td><td>0.7195185</td></tr>\n",
       "\t<tr><td>Alicia DeShasier       </td><td>0.7529941</td><td>0.3267327</td><td>0.8333333</td><td>0.6870598</td></tr>\n",
       "\t<tr><td>Allison Updike         </td><td>0.2831123</td><td>0.6392012</td><td>0.2500000</td><td>0.3203585</td></tr>\n",
       "\t<tr><td>Alyssa Olin            </td><td>0.4688902</td><td>0.2497063</td><td>0.5000000</td><td>0.3089929</td></tr>\n",
       "\t<tr><td>Ariana Ince            </td><td>0.6602443</td><td>0.3419779</td><td>0.6923077</td><td>0.4460812</td></tr>\n",
       "</tbody>\n",
       "</table>\n"
      ],
      "text/latex": [
       "A tibble: 6 × 5\n",
       "\\begin{tabular}{lllll}\n",
       " Athlete & TotalDistance & StandardDev & Success & diff\\\\\n",
       " <chr> & <dbl> & <dbl> & <dbl> & <dbl>\\\\\n",
       "\\hline\n",
       "\t Abigail Gomez           & 0.4459534 & 0.2678973 & 0.4500000 & 0.3828542\\\\\n",
       "\t Abigail Gomez Hernandez & 0.2439924 & 0.1146165 & 0.2500000 & 0.7195185\\\\\n",
       "\t Alicia DeShasier        & 0.7529941 & 0.3267327 & 0.8333333 & 0.6870598\\\\\n",
       "\t Allison Updike          & 0.2831123 & 0.6392012 & 0.2500000 & 0.3203585\\\\\n",
       "\t Alyssa Olin             & 0.4688902 & 0.2497063 & 0.5000000 & 0.3089929\\\\\n",
       "\t Ariana Ince             & 0.6602443 & 0.3419779 & 0.6923077 & 0.4460812\\\\\n",
       "\\end{tabular}\n"
      ],
      "text/markdown": [
       "\n",
       "A tibble: 6 × 5\n",
       "\n",
       "| Athlete &lt;chr&gt; | TotalDistance &lt;dbl&gt; | StandardDev &lt;dbl&gt; | Success &lt;dbl&gt; | diff &lt;dbl&gt; |\n",
       "|---|---|---|---|---|\n",
       "| Abigail Gomez           | 0.4459534 | 0.2678973 | 0.4500000 | 0.3828542 |\n",
       "| Abigail Gomez Hernandez | 0.2439924 | 0.1146165 | 0.2500000 | 0.7195185 |\n",
       "| Alicia DeShasier        | 0.7529941 | 0.3267327 | 0.8333333 | 0.6870598 |\n",
       "| Allison Updike          | 0.2831123 | 0.6392012 | 0.2500000 | 0.3203585 |\n",
       "| Alyssa Olin             | 0.4688902 | 0.2497063 | 0.5000000 | 0.3089929 |\n",
       "| Ariana Ince             | 0.6602443 | 0.3419779 | 0.6923077 | 0.4460812 |\n",
       "\n"
      ],
      "text/plain": [
       "  Athlete                 TotalDistance StandardDev Success   diff     \n",
       "1 Abigail Gomez           0.4459534     0.2678973   0.4500000 0.3828542\n",
       "2 Abigail Gomez Hernandez 0.2439924     0.1146165   0.2500000 0.7195185\n",
       "3 Alicia DeShasier        0.7529941     0.3267327   0.8333333 0.6870598\n",
       "4 Allison Updike          0.2831123     0.6392012   0.2500000 0.3203585\n",
       "5 Alyssa Olin             0.4688902     0.2497063   0.5000000 0.3089929\n",
       "6 Ariana Ince             0.6602443     0.3419779   0.6923077 0.4460812"
      ]
     },
     "metadata": {},
     "output_type": "display_data"
    }
   ],
   "source": [
    "norm <- function(result) {\n",
    "    (result - min(result)) / (max(result) - min(result))\n",
    "}\n",
    "aggstats <- c(\"TotalDistance\", \"StandardDev\", \"Success\", \"diff\")\n",
    "javelin_norm <- javelin_totals %>%\n",
    " ungroup() %>%\n",
    "mutate_at(aggstats, norm) %>%\n",
    "group_by(Athlete) %>%\n",
    "summarize_all(mean)\n",
    "\n",
    "head(javelin_norm)"
   ]
  },
  {
   "cell_type": "markdown",
   "metadata": {
    "dc": {
     "key": "46"
    },
    "deletable": false,
    "editable": false,
    "run_control": {
     "frozen": true
    },
    "tags": [
     "context"
    ]
   },
   "source": [
    "## 7. What matters most when building your squad?\n",
    "<p>Managers have to decide what kind of players they want on their team - who matches their vision, who has the skills they need to play their style of athletics and - ultimately - who will deliver the wins. A risk-averse manager will want players who rarely foul. The steely-eyed manager will want the players who can deliver the win with their final throws. </p>\n",
    "<p>Like any other sport (or profession), rarely will any one player be equally strong in all areas. Managers have to make trade-offs in selecting their teams. Our first batch of managers have the added disadvantage of selecting players based on data from a related but distinct sport. Our data comes from traditional track and field meets, where the motivations and goals are much different than our own. </p>\n",
    "<p>This is why managers make the big money and get sacked when results go south.</p>"
   ]
  },
  {
   "cell_type": "code",
   "execution_count": 7,
   "metadata": {
    "dc": {
     "key": "46"
    },
    "tags": [
     "sample_code"
    ]
   },
   "outputs": [
    {
     "data": {
      "text/html": [
       "<table class=\"dataframe\">\n",
       "<caption>A tibble: 5 × 2</caption>\n",
       "<thead>\n",
       "\t<tr><th scope=col>Athlete</th><th scope=col>TotalScore</th></tr>\n",
       "\t<tr><th scope=col>&lt;chr&gt;</th><th scope=col>&lt;dbl&gt;</th></tr>\n",
       "</thead>\n",
       "<tbody>\n",
       "\t<tr><td>Asia Easley        </td><td>7.091703</td></tr>\n",
       "\t<tr><td>Madalaine Stulce   </td><td>6.871943</td></tr>\n",
       "\t<tr><td>Dominique Ouellette</td><td>5.855338</td></tr>\n",
       "\t<tr><td>Laura Loht         </td><td>5.760761</td></tr>\n",
       "\t<tr><td>Tairyn Montgomery  </td><td>5.744268</td></tr>\n",
       "</tbody>\n",
       "</table>\n"
      ],
      "text/latex": [
       "A tibble: 5 × 2\n",
       "\\begin{tabular}{ll}\n",
       " Athlete & TotalScore\\\\\n",
       " <chr> & <dbl>\\\\\n",
       "\\hline\n",
       "\t Asia Easley         & 7.091703\\\\\n",
       "\t Madalaine Stulce    & 6.871943\\\\\n",
       "\t Dominique Ouellette & 5.855338\\\\\n",
       "\t Laura Loht          & 5.760761\\\\\n",
       "\t Tairyn Montgomery   & 5.744268\\\\\n",
       "\\end{tabular}\n"
      ],
      "text/markdown": [
       "\n",
       "A tibble: 5 × 2\n",
       "\n",
       "| Athlete &lt;chr&gt; | TotalScore &lt;dbl&gt; |\n",
       "|---|---|\n",
       "| Asia Easley         | 7.091703 |\n",
       "| Madalaine Stulce    | 6.871943 |\n",
       "| Dominique Ouellette | 5.855338 |\n",
       "| Laura Loht          | 5.760761 |\n",
       "| Tairyn Montgomery   | 5.744268 |\n",
       "\n"
      ],
      "text/plain": [
       "  Athlete             TotalScore\n",
       "1 Asia Easley         7.091703  \n",
       "2 Madalaine Stulce    6.871943  \n",
       "3 Dominique Ouellette 5.855338  \n",
       "4 Laura Loht          5.760761  \n",
       "5 Tairyn Montgomery   5.744268  "
      ]
     },
     "metadata": {},
     "output_type": "display_data"
    }
   ],
   "source": [
    "weights <- c(2.1, 4.9, .5, 2.5)\n",
    "javelin_team <- javelin_norm %>%\n",
    "  mutate(TotalScore = TotalDistance*weights[1] + StandardDev*weights[2] + Success*weights[3] + diff*weights[4]) %>%\n",
    "  arrange(desc(TotalScore)) %>%\n",
    "  slice(1:5) %>%\n",
    "  select(Athlete, TotalScore)\n",
    "\n",
    "javelin_team"
   ]
  },
  {
   "cell_type": "markdown",
   "metadata": {
    "dc": {
     "key": "53"
    },
    "deletable": false,
    "editable": false,
    "run_control": {
     "frozen": true
    },
    "tags": [
     "context"
    ]
   },
   "source": [
    "## 8. Get to know your players\n",
    "<p>The data has spoken! Now we have our five javelin throwers but we still don’t really know them. The <code>javelin_totals</code> data frame has the data that went into the decision process, so we will pull that up. This gives us an idea of what they each bring to the team. </p>\n",
    "<p>We can also take a look at how they compare to the pool of athletes we started from by taking the mean and maximum of each statistic.</p>"
   ]
  },
  {
   "cell_type": "code",
   "execution_count": 9,
   "metadata": {
    "dc": {
     "key": "53"
    },
    "tags": [
     "sample_code"
    ]
   },
   "outputs": [
    {
     "data": {
      "text/html": [
       "<table class=\"dataframe\">\n",
       "<caption>A tibble: 5 × 5</caption>\n",
       "<thead>\n",
       "\t<tr><th scope=col>Athlete</th><th scope=col>TotalDistance</th><th scope=col>StandardDev</th><th scope=col>Success</th><th scope=col>diff</th></tr>\n",
       "\t<tr><th scope=col>&lt;chr&gt;</th><th scope=col>&lt;dbl&gt;</th><th scope=col>&lt;dbl&gt;</th><th scope=col>&lt;dbl&gt;</th><th scope=col>&lt;dbl&gt;</th></tr>\n",
       "</thead>\n",
       "<tbody>\n",
       "\t<tr><td>Asia Easley        </td><td>187.580</td><td>4.7795</td><td>4.5</td><td> 64.060</td></tr>\n",
       "\t<tr><td>Dominique Ouellette</td><td>298.655</td><td>2.9105</td><td>6.0</td><td>  2.875</td></tr>\n",
       "\t<tr><td>Laura Loht         </td><td>251.910</td><td>3.9820</td><td>5.0</td><td>-45.570</td></tr>\n",
       "\t<tr><td>Madalaine Stulce   </td><td>274.760</td><td>4.4720</td><td>6.0</td><td> -6.420</td></tr>\n",
       "\t<tr><td>Tairyn Montgomery  </td><td>235.100</td><td>2.8700</td><td>5.0</td><td> 48.220</td></tr>\n",
       "</tbody>\n",
       "</table>\n"
      ],
      "text/latex": [
       "A tibble: 5 × 5\n",
       "\\begin{tabular}{lllll}\n",
       " Athlete & TotalDistance & StandardDev & Success & diff\\\\\n",
       " <chr> & <dbl> & <dbl> & <dbl> & <dbl>\\\\\n",
       "\\hline\n",
       "\t Asia Easley         & 187.580 & 4.7795 & 4.5 &  64.060\\\\\n",
       "\t Dominique Ouellette & 298.655 & 2.9105 & 6.0 &   2.875\\\\\n",
       "\t Laura Loht          & 251.910 & 3.9820 & 5.0 & -45.570\\\\\n",
       "\t Madalaine Stulce    & 274.760 & 4.4720 & 6.0 &  -6.420\\\\\n",
       "\t Tairyn Montgomery   & 235.100 & 2.8700 & 5.0 &  48.220\\\\\n",
       "\\end{tabular}\n"
      ],
      "text/markdown": [
       "\n",
       "A tibble: 5 × 5\n",
       "\n",
       "| Athlete &lt;chr&gt; | TotalDistance &lt;dbl&gt; | StandardDev &lt;dbl&gt; | Success &lt;dbl&gt; | diff &lt;dbl&gt; |\n",
       "|---|---|---|---|---|\n",
       "| Asia Easley         | 187.580 | 4.7795 | 4.5 |  64.060 |\n",
       "| Dominique Ouellette | 298.655 | 2.9105 | 6.0 |   2.875 |\n",
       "| Laura Loht          | 251.910 | 3.9820 | 5.0 | -45.570 |\n",
       "| Madalaine Stulce    | 274.760 | 4.4720 | 6.0 |  -6.420 |\n",
       "| Tairyn Montgomery   | 235.100 | 2.8700 | 5.0 |  48.220 |\n",
       "\n"
      ],
      "text/plain": [
       "  Athlete             TotalDistance StandardDev Success diff   \n",
       "1 Asia Easley         187.580       4.7795      4.5      64.060\n",
       "2 Dominique Ouellette 298.655       2.9105      6.0       2.875\n",
       "3 Laura Loht          251.910       3.9820      5.0     -45.570\n",
       "4 Madalaine Stulce    274.760       4.4720      6.0      -6.420\n",
       "5 Tairyn Montgomery   235.100       2.8700      5.0      48.220"
      ]
     },
     "metadata": {},
     "output_type": "display_data"
    }
   ],
   "source": [
    "team_stats <- javelin_totals %>% \n",
    "filter(Athlete %in% javelin_team$Athlete) %>%\n",
    "summarize_all(mean)\n",
    "\n",
    "pool_stats <- data.frame(do.call('cbind', sapply(javelin_totals, function(x) if(is.numeric(x)) c(max(x), mean(x)))))\n",
    "pool_stats$MaxAve <- c(\"Maximum\", \"Average\")\n",
    "pool_stats <- pool_stats %>%\n",
    "    gather(key=\"Statistic\", value=\"Aggregate\", -MaxAve)\n",
    "                                                 \n",
    "# Examine team stats\n",
    "team_stats"
   ]
  },
  {
   "cell_type": "markdown",
   "metadata": {
    "dc": {
     "key": "60"
    },
    "deletable": false,
    "editable": false,
    "run_control": {
     "frozen": true
    },
    "tags": [
     "context"
    ]
   },
   "source": [
    "## 9. Make your case to the front office\n",
    "<p>The manager knows what she wants out of the team and has the data to support her choices, but she still needs to defend her decisions to the team owners. They do write the checks, after all. </p>\n",
    "<p>The owners are busy people. Many of them work other jobs and own other companies. They trust their managers, so as long the manager can give them an easy-to-digest visual presentation of why they should sign these five athletes out of all the others, they will approve.</p>\n",
    "<p>A series of plots showing how each athlete compares to the maximum and the average of each statistic will be enough for them.</p>"
   ]
  },
  {
   "cell_type": "code",
   "execution_count": 11,
   "metadata": {
    "dc": {
     "key": "60"
    },
    "tags": [
     "sample_code"
    ]
   },
   "outputs": [
    {
     "data": {
      "image/png": "[encoded data removed]",
      "text/plain": [
       "plot without title"
      ]
     },
     "metadata": {
      "image/png": {
       "height": 420,
       "width": 420
      }
     },
     "output_type": "display_data"
    }
   ],
   "source": [
    "p <- team_stats %>%\n",
    " gather(key=\"Statistic\", value=\"Aggregate\", -Athlete) %>%\n",
    " ggplot(aes(x=Athlete, y=Aggregate, fill=Athlete)) +\n",
    "  geom_bar(stat=\"identity\", position=\"dodge\") +\n",
    "  facet_wrap(vars(Statistic), scales=\"free_y\") +\n",
    "  geom_hline(data=pool_stats, aes(yintercept=Aggregate, group=Statistic, color=MaxAve), linewidth=1) +\n",
    "  labs(title=\"Grand Rapids Athletic Club: Women's Javelin\", color=\"Athlete pool maximum / average\") +\n",
    "  scale_fill_hue(l=70) +\n",
    "  scale_color_hue(l=20) +\n",
    "  theme_minimal() +\n",
    "  theme(axis.text.x=element_blank(), axis.title.x=element_blank(), axis.title.y=element_blank())\n",
    "\n",
    "p"
   ]
  },
  {
   "cell_type": "markdown",
   "metadata": {
    "dc": {
     "key": "67"
    },
    "deletable": false,
    "editable": false,
    "run_control": {
     "frozen": true
    },
    "tags": [
     "context"
    ]
   },
   "source": [
    "## 10. Time to throw down\n",
    "<p>Before the athletics season opens, the manager will perform similar analyses for the other throws, the jumps, and running events. Then you'll game out different permutations of your team and your opponent to come up with the best lineup and make the best decisions on match day. For now, since it's what we know best and we're almost out of time, let's simulate a simple javelin match. </p>\n",
    "<p>The winner is the team that throws the highest combined distance: six throws from each of your three players against six throws from each of the opponent's three players.</p>"
   ]
  },
  {
   "cell_type": "code",
   "execution_count": 13,
   "metadata": {
    "dc": {
     "key": "67"
    },
    "tags": [
     "sample_code"
    ]
   },
   "outputs": [
    {
     "name": "stdout",
     "output_type": "stream",
     "text": [
      "[1] \"Javelin match, Final Score: 674.59 - 657.98\"\n",
      "[1] \"Win!\"\n"
     ]
    },
    {
     "data": {
      "text/html": [
       "'Win!'"
      ],
      "text/latex": [
       "'Win!'"
      ],
      "text/markdown": [
       "'Win!'"
      ],
      "text/plain": [
       "[1] \"Win!\""
      ]
     },
     "metadata": {},
     "output_type": "display_data"
    }
   ],
   "source": [
    "home <- c(1,3,5)\n",
    "away <- sample(1:nrow(javelin_totals), 3, replace=FALSE)\n",
    "\n",
    "HomeTeam <- round(sum(team_stats$TotalDistance[home]),2)\n",
    "AwayTeam <- round(sum(javelin_totals$TotalDistance[away]),2)\n",
    "\n",
    "print(paste0(\"Javelin match, Final Score: \", HomeTeam, \" - \", AwayTeam))\n",
    "ifelse(HomeTeam > AwayTeam, print(\"Win!\"), print(\"Sometimes you just have to take the L.\"))"
   ]
  }
 ],
 "metadata": {
  "kernelspec": {
   "display_name": "R",
   "language": "R",
   "name": "ir"
  },
  "language_info": {
   "codemirror_mode": "r",
   "file_extension": ".r",
   "mimetype": "text/x-r-source",
   "name": "R",
   "pygments_lexer": "r",
   "version": "4.2.3"
  }
 },
 "nbformat": 4,
 "nbformat_minor": 2
}
